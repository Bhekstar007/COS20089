{
 "cells": [
  {
   "cell_type": "markdown",
   "id": "98baef15",
   "metadata": {},
   "source": [
    "# Jupyter Notebook: Data Cleaning for Ecommerce Consumer Behavior Analysis"
   ]
  },
  {
   "cell_type": "code",
   "execution_count": null,
   "id": "f59516d2",
   "metadata": {},
   "outputs": [],
   "source": [
    "# Cell 1: Import libraries\n",
    "import pandas as pd\n",
    "import numpy as np\n",
    "from unidecode import unidecode\n",
    "\n",
    "# Display all columns for inspection\n",
    "pd.set_option('display.max_columns', None)\n",
    "pd.set_option('display.max_columns', None)\n"
   ]
  },
  {
   "cell_type": "code",
   "execution_count": 66,
   "id": "e4fcc85c",
   "metadata": {},
   "outputs": [
    {
     "data": {
      "text/html": [
       "<div>\n",
       "<style scoped>\n",
       "    .dataframe tbody tr th:only-of-type {\n",
       "        vertical-align: middle;\n",
       "    }\n",
       "\n",
       "    .dataframe tbody tr th {\n",
       "        vertical-align: top;\n",
       "    }\n",
       "\n",
       "    .dataframe thead th {\n",
       "        text-align: right;\n",
       "    }\n",
       "</style>\n",
       "<table border=\"1\" class=\"dataframe\">\n",
       "  <thead>\n",
       "    <tr style=\"text-align: right;\">\n",
       "      <th></th>\n",
       "      <th>Customer_ID</th>\n",
       "      <th>Age</th>\n",
       "      <th>Gender</th>\n",
       "      <th>Income_Level</th>\n",
       "      <th>Marital_Status</th>\n",
       "      <th>Education_Level</th>\n",
       "      <th>Occupation</th>\n",
       "      <th>Location</th>\n",
       "      <th>Purchase_Category</th>\n",
       "      <th>Purchase_Amount</th>\n",
       "      <th>Frequency_of_Purchase</th>\n",
       "      <th>Purchase_Channel</th>\n",
       "      <th>Brand_Loyalty</th>\n",
       "      <th>Product_Rating</th>\n",
       "      <th>Time_Spent_on_Product_Research(hours)</th>\n",
       "      <th>Social_Media_Influence</th>\n",
       "      <th>Discount_Sensitivity</th>\n",
       "      <th>Return_Rate</th>\n",
       "      <th>Customer_Satisfaction</th>\n",
       "      <th>Engagement_with_Ads</th>\n",
       "      <th>Device_Used_for_Shopping</th>\n",
       "      <th>Payment_Method</th>\n",
       "      <th>Time_of_Purchase</th>\n",
       "      <th>Discount_Used</th>\n",
       "      <th>Customer_Loyalty_Program_Member</th>\n",
       "      <th>Purchase_Intent</th>\n",
       "      <th>Shipping_Preference</th>\n",
       "      <th>Time_to_Decision</th>\n",
       "    </tr>\n",
       "  </thead>\n",
       "  <tbody>\n",
       "    <tr>\n",
       "      <th>0</th>\n",
       "      <td>37-611-6911</td>\n",
       "      <td>22</td>\n",
       "      <td>Female</td>\n",
       "      <td>Middle</td>\n",
       "      <td>Married</td>\n",
       "      <td>Bachelor's</td>\n",
       "      <td>Middle</td>\n",
       "      <td>Évry</td>\n",
       "      <td>Gardening &amp; Outdoors</td>\n",
       "      <td>$333.80</td>\n",
       "      <td>4</td>\n",
       "      <td>Mixed</td>\n",
       "      <td>5</td>\n",
       "      <td>5</td>\n",
       "      <td>2.0</td>\n",
       "      <td>NaN</td>\n",
       "      <td>Somewhat Sensitive</td>\n",
       "      <td>1</td>\n",
       "      <td>7</td>\n",
       "      <td>NaN</td>\n",
       "      <td>Tablet</td>\n",
       "      <td>Credit Card</td>\n",
       "      <td>3/1/2024</td>\n",
       "      <td>True</td>\n",
       "      <td>False</td>\n",
       "      <td>Need-based</td>\n",
       "      <td>No Preference</td>\n",
       "      <td>2</td>\n",
       "    </tr>\n",
       "    <tr>\n",
       "      <th>1</th>\n",
       "      <td>29-392-9296</td>\n",
       "      <td>49</td>\n",
       "      <td>Male</td>\n",
       "      <td>High</td>\n",
       "      <td>Married</td>\n",
       "      <td>High School</td>\n",
       "      <td>High</td>\n",
       "      <td>Huocheng</td>\n",
       "      <td>Food &amp; Beverages</td>\n",
       "      <td>$222.22</td>\n",
       "      <td>11</td>\n",
       "      <td>In-Store</td>\n",
       "      <td>3</td>\n",
       "      <td>1</td>\n",
       "      <td>2.0</td>\n",
       "      <td>Medium</td>\n",
       "      <td>Not Sensitive</td>\n",
       "      <td>1</td>\n",
       "      <td>5</td>\n",
       "      <td>High</td>\n",
       "      <td>Tablet</td>\n",
       "      <td>PayPal</td>\n",
       "      <td>4/16/2024</td>\n",
       "      <td>True</td>\n",
       "      <td>False</td>\n",
       "      <td>Wants-based</td>\n",
       "      <td>Standard</td>\n",
       "      <td>6</td>\n",
       "    </tr>\n",
       "    <tr>\n",
       "      <th>2</th>\n",
       "      <td>84-649-5117</td>\n",
       "      <td>24</td>\n",
       "      <td>Female</td>\n",
       "      <td>Middle</td>\n",
       "      <td>Single</td>\n",
       "      <td>Master's</td>\n",
       "      <td>High</td>\n",
       "      <td>Huzhen</td>\n",
       "      <td>Office Supplies</td>\n",
       "      <td>$426.22</td>\n",
       "      <td>2</td>\n",
       "      <td>Mixed</td>\n",
       "      <td>5</td>\n",
       "      <td>5</td>\n",
       "      <td>0.3</td>\n",
       "      <td>Low</td>\n",
       "      <td>Not Sensitive</td>\n",
       "      <td>1</td>\n",
       "      <td>7</td>\n",
       "      <td>Low</td>\n",
       "      <td>Smartphone</td>\n",
       "      <td>Debit Card</td>\n",
       "      <td>3/15/2024</td>\n",
       "      <td>True</td>\n",
       "      <td>True</td>\n",
       "      <td>Impulsive</td>\n",
       "      <td>No Preference</td>\n",
       "      <td>3</td>\n",
       "    </tr>\n",
       "    <tr>\n",
       "      <th>3</th>\n",
       "      <td>48-980-6078</td>\n",
       "      <td>29</td>\n",
       "      <td>Female</td>\n",
       "      <td>Middle</td>\n",
       "      <td>Single</td>\n",
       "      <td>Master's</td>\n",
       "      <td>Middle</td>\n",
       "      <td>Wiwilí</td>\n",
       "      <td>Home Appliances</td>\n",
       "      <td>$101.31</td>\n",
       "      <td>6</td>\n",
       "      <td>Mixed</td>\n",
       "      <td>3</td>\n",
       "      <td>1</td>\n",
       "      <td>1.0</td>\n",
       "      <td>High</td>\n",
       "      <td>Somewhat Sensitive</td>\n",
       "      <td>0</td>\n",
       "      <td>1</td>\n",
       "      <td>NaN</td>\n",
       "      <td>Smartphone</td>\n",
       "      <td>Other</td>\n",
       "      <td>10/4/2024</td>\n",
       "      <td>True</td>\n",
       "      <td>True</td>\n",
       "      <td>Need-based</td>\n",
       "      <td>Express</td>\n",
       "      <td>10</td>\n",
       "    </tr>\n",
       "    <tr>\n",
       "      <th>4</th>\n",
       "      <td>91-170-9072</td>\n",
       "      <td>33</td>\n",
       "      <td>Female</td>\n",
       "      <td>Middle</td>\n",
       "      <td>Widowed</td>\n",
       "      <td>High School</td>\n",
       "      <td>Middle</td>\n",
       "      <td>Nara</td>\n",
       "      <td>Furniture</td>\n",
       "      <td>$211.70</td>\n",
       "      <td>6</td>\n",
       "      <td>Mixed</td>\n",
       "      <td>3</td>\n",
       "      <td>4</td>\n",
       "      <td>0.0</td>\n",
       "      <td>Medium</td>\n",
       "      <td>Not Sensitive</td>\n",
       "      <td>2</td>\n",
       "      <td>10</td>\n",
       "      <td>NaN</td>\n",
       "      <td>Smartphone</td>\n",
       "      <td>Debit Card</td>\n",
       "      <td>1/30/2024</td>\n",
       "      <td>False</td>\n",
       "      <td>False</td>\n",
       "      <td>Wants-based</td>\n",
       "      <td>No Preference</td>\n",
       "      <td>4</td>\n",
       "    </tr>\n",
       "  </tbody>\n",
       "</table>\n",
       "</div>"
      ],
      "text/plain": [
       "   Customer_ID  Age  Gender Income_Level Marital_Status Education_Level  \\\n",
       "0  37-611-6911   22  Female       Middle        Married      Bachelor's   \n",
       "1  29-392-9296   49    Male         High        Married     High School   \n",
       "2  84-649-5117   24  Female       Middle         Single        Master's   \n",
       "3  48-980-6078   29  Female       Middle         Single        Master's   \n",
       "4  91-170-9072   33  Female       Middle        Widowed     High School   \n",
       "\n",
       "  Occupation  Location     Purchase_Category Purchase_Amount  \\\n",
       "0     Middle      Évry  Gardening & Outdoors        $333.80    \n",
       "1       High  Huocheng      Food & Beverages        $222.22    \n",
       "2       High    Huzhen       Office Supplies        $426.22    \n",
       "3     Middle    Wiwilí       Home Appliances        $101.31    \n",
       "4     Middle      Nara             Furniture        $211.70    \n",
       "\n",
       "   Frequency_of_Purchase Purchase_Channel  Brand_Loyalty  Product_Rating  \\\n",
       "0                      4            Mixed              5               5   \n",
       "1                     11         In-Store              3               1   \n",
       "2                      2            Mixed              5               5   \n",
       "3                      6            Mixed              3               1   \n",
       "4                      6            Mixed              3               4   \n",
       "\n",
       "   Time_Spent_on_Product_Research(hours) Social_Media_Influence  \\\n",
       "0                                    2.0                    NaN   \n",
       "1                                    2.0                 Medium   \n",
       "2                                    0.3                    Low   \n",
       "3                                    1.0                   High   \n",
       "4                                    0.0                 Medium   \n",
       "\n",
       "  Discount_Sensitivity  Return_Rate  Customer_Satisfaction  \\\n",
       "0   Somewhat Sensitive            1                      7   \n",
       "1        Not Sensitive            1                      5   \n",
       "2        Not Sensitive            1                      7   \n",
       "3   Somewhat Sensitive            0                      1   \n",
       "4        Not Sensitive            2                     10   \n",
       "\n",
       "  Engagement_with_Ads Device_Used_for_Shopping Payment_Method  \\\n",
       "0                 NaN                   Tablet    Credit Card   \n",
       "1                High                   Tablet         PayPal   \n",
       "2                 Low               Smartphone     Debit Card   \n",
       "3                 NaN               Smartphone          Other   \n",
       "4                 NaN               Smartphone     Debit Card   \n",
       "\n",
       "  Time_of_Purchase  Discount_Used  Customer_Loyalty_Program_Member  \\\n",
       "0         3/1/2024           True                            False   \n",
       "1        4/16/2024           True                            False   \n",
       "2        3/15/2024           True                             True   \n",
       "3        10/4/2024           True                             True   \n",
       "4        1/30/2024          False                            False   \n",
       "\n",
       "  Purchase_Intent Shipping_Preference  Time_to_Decision  \n",
       "0      Need-based       No Preference                 2  \n",
       "1     Wants-based            Standard                 6  \n",
       "2       Impulsive       No Preference                 3  \n",
       "3      Need-based             Express                10  \n",
       "4     Wants-based       No Preference                 4  "
      ]
     },
     "metadata": {},
     "output_type": "display_data"
    },
    {
     "name": "stdout",
     "output_type": "stream",
     "text": [
      "<class 'pandas.core.frame.DataFrame'>\n",
      "RangeIndex: 1000 entries, 0 to 999\n",
      "Data columns (total 28 columns):\n",
      " #   Column                                 Non-Null Count  Dtype  \n",
      "---  ------                                 --------------  -----  \n",
      " 0   Customer_ID                            1000 non-null   object \n",
      " 1   Age                                    1000 non-null   int64  \n",
      " 2   Gender                                 1000 non-null   object \n",
      " 3   Income_Level                           1000 non-null   object \n",
      " 4   Marital_Status                         1000 non-null   object \n",
      " 5   Education_Level                        1000 non-null   object \n",
      " 6   Occupation                             1000 non-null   object \n",
      " 7   Location                               1000 non-null   object \n",
      " 8   Purchase_Category                      1000 non-null   object \n",
      " 9   Purchase_Amount                        1000 non-null   object \n",
      " 10  Frequency_of_Purchase                  1000 non-null   int64  \n",
      " 11  Purchase_Channel                       1000 non-null   object \n",
      " 12  Brand_Loyalty                          1000 non-null   int64  \n",
      " 13  Product_Rating                         1000 non-null   int64  \n",
      " 14  Time_Spent_on_Product_Research(hours)  1000 non-null   float64\n",
      " 15  Social_Media_Influence                 753 non-null    object \n",
      " 16  Discount_Sensitivity                   1000 non-null   object \n",
      " 17  Return_Rate                            1000 non-null   int64  \n",
      " 18  Customer_Satisfaction                  1000 non-null   int64  \n",
      " 19  Engagement_with_Ads                    744 non-null    object \n",
      " 20  Device_Used_for_Shopping               1000 non-null   object \n",
      " 21  Payment_Method                         1000 non-null   object \n",
      " 22  Time_of_Purchase                       1000 non-null   object \n",
      " 23  Discount_Used                          1000 non-null   bool   \n",
      " 24  Customer_Loyalty_Program_Member        1000 non-null   bool   \n",
      " 25  Purchase_Intent                        1000 non-null   object \n",
      " 26  Shipping_Preference                    1000 non-null   object \n",
      " 27  Time_to_Decision                       1000 non-null   int64  \n",
      "dtypes: bool(2), float64(1), int64(7), object(18)\n",
      "memory usage: 205.2+ KB\n"
     ]
    }
   ],
   "source": [
    "# Cell 2: Load the data\n",
    "file_path = 'EcommerceConsumerBehaviorAnalysisData_COS20089_A2.csv'\n",
    "df = pd.read_csv(file_path)\n",
    "\n",
    "# Initial inspection\n",
    "display(df.head())\n",
    "df.info()\n",
    "\n"
   ]
  },
  {
   "cell_type": "code",
   "execution_count": 67,
   "id": "c957ab98",
   "metadata": {},
   "outputs": [
    {
     "data": {
      "text/plain": [
       "array(['Evry', 'Huocheng', 'Huzhen', 'Wiwili', 'Nara', 'Boro Utara',\n",
       "       'Liren', 'Taocheng', 'Grabo', 'Pryamitsyno', 'Punta Gorda', 'Gyor',\n",
       "       'Gaosheng', 'Rokytne', 'Alameda', 'Dhankuta', 'Jindong', 'Ngeru',\n",
       "       'White Rock', 'Monastyrshchina', 'Pangkalanbunut', 'Lederaba',\n",
       "       'Lugo', 'Sao Roque', 'Bani Khaddash', 'Montpellier', 'Nesovice',\n",
       "       'Pasirhuni', 'Glendale', 'Tala', 'Marseille', 'Nasielsk',\n",
       "       'Paris 06', 'Bronnitsy', 'Inayauan', 'Qianjin', 'Bagahanlad',\n",
       "       'Rzewnie', 'Strabychovo', 'Hongqi', 'Oeoh', \"Topol'Noye\",\n",
       "       'Kovarov', 'Majdal Bani Fadil', 'Delta Del Tigre',\n",
       "       'Santa Cruz La Laguna', 'Manchester', 'Norrkoping', 'Sosno',\n",
       "       'Pella', 'Namur', 'Benevides', 'Qinghaihu', 'Alfeizerao',\n",
       "       'Prostredni Becva', 'Oeiras', 'Kythnos', 'Rizal', 'Fullerton',\n",
       "       'Huaidao', 'Bilice', 'Isla Verde', 'Hunkuyi', 'Shiree',\n",
       "       'Strezhevoy', 'Longxing', 'Jesus Menendez', 'Hongguang', 'Pilaya',\n",
       "       'Camp Ithier', 'Holboo', 'Luxi', 'Ostashkov', 'Hongshanzui',\n",
       "       'Tocoa', 'Bayan Tuohai', 'Parumasan', 'Karpogory', 'Shahzadpur',\n",
       "       'Muaratiga', 'Gjegjan', 'Creteil', 'Pameungpeuk', 'Junshan',\n",
       "       'Lewotola', 'Laocheng', 'Guacari', 'Sancang', 'Ndewel',\n",
       "       'San Patricio', 'Fengtai', 'Dawran Ad Daydah', 'Magdalena',\n",
       "       'Lesnica', 'Hinlayagan Ilaud', 'Forshaga', 'Rakszawa', 'Fengjiang',\n",
       "       'Jiangcun', 'Okuchi', 'Novoukrainskiy', 'Acobambilla', 'Kyonju',\n",
       "       'Pomar', 'Zaltan', 'Trelaze', 'Messina', 'Mragowo', 'Ngawi',\n",
       "       'Oslo', 'Dobrica', 'La Roche-Sur-Yon', 'Point Pedro', 'Tianbao',\n",
       "       'Puqian', 'Binalbagan', 'Tessalit', 'Nikolayevsk', 'Dashuipo',\n",
       "       'Tyn Nad Vltavou', 'Kaum Kaler', 'Gandapura', 'Kawangkoan',\n",
       "       'Mondorf-Les-Bains', 'Manwakh', 'Karlstad', 'Obong', 'Kolsko',\n",
       "       'Dalbandin', 'Shazi', 'Hachioji', 'Jolo', 'Pedra Azul',\n",
       "       'Gustavsberg', 'La Mohammedia', 'Florida', 'Zhongcheng',\n",
       "       'Goiatuba', 'Krajan Kidul Rojopolo', 'Metchosin', 'Staritsa',\n",
       "       'Benito Juarez', 'Mani', 'Vitali', 'Mizque', 'Zgornje Pirnice',\n",
       "       'Cipolletti', 'Solleftea', 'Klonowa', 'Suvorov', 'Dragash',\n",
       "       'Freiburg Im Breisgau', 'Macau', 'Pancas', 'Dayapan',\n",
       "       'Gordon Town', 'Proptisht', 'Kamal', 'Kouvola', 'Zhongdong',\n",
       "       'Betong', 'Jinping', 'Mgachi', 'Lameira', 'Medicine Hat',\n",
       "       'Yenikoy', 'Peer', 'Belusovka', 'Houston', 'Hengdian', 'Shuigou',\n",
       "       'Xingxi', 'Dhibin', 'Chengguan', 'Paris 09', 'Rozhdestveno',\n",
       "       'Porangatu', 'Shalkar', 'Quimbaya', 'Narok', 'Gimcheon',\n",
       "       'Visaginas', 'Shostka', 'Pukekohe East', 'Blokdesa Situgede',\n",
       "       'Yueyang', 'Liutan', 'Huanggang', 'Baturite', \"Mi'Ersi\", 'Xuedian',\n",
       "       'Yuyapichis', 'Shiroishi', 'Kobe', 'Gulou', 'Jilin', 'Balboa',\n",
       "       'Cipari', 'Orlando', 'Torsby', 'San Pablo', 'Daszewice',\n",
       "       'Villa Concepcion Del Tio', 'Hacienda La Calera', 'Puerto Lopez',\n",
       "       'Xinchengzi', 'Tecpan Guatemala', 'Araci', 'Duyure', 'Huangni',\n",
       "       'Kuala Lumpur', 'Seleus', 'Monrovia', 'Kristinehamn',\n",
       "       'Huancabamba', 'San Jose Acatempa', 'Quebrada Canoa', 'Moate',\n",
       "       'Kubangwaru', 'Marino', 'Xinquan', 'Providence', 'Autun', 'Shilin',\n",
       "       'Paris 17', 'Stoczek Lukowski', 'Ormstown', 'Ponte', 'Boshkengash',\n",
       "       'Da Teh', \"Rada'\", 'Sinarwangi', 'Dagup', 'Elk', 'Moju', 'Vilia',\n",
       "       'Prince Rupert', 'Jiangmen', 'Alung', 'Osorno', 'Labo',\n",
       "       'Dakingari', 'Selasari', 'Besko', 'Aubergenville', 'Sula',\n",
       "       'Valongo', 'Al Khankah', 'Mertola', 'Rates', 'Anyang', 'Nymburk',\n",
       "       'Tafo', 'Cibaregbeg', 'Wang Yang', 'Liangnong', 'Hengshi',\n",
       "       'Kandangan', 'Naranjal', 'Abiko', 'Longhuashan', 'Zhovkva',\n",
       "       'Lebak', 'Gereshk', 'Yonghe', 'Dabai', 'Moutnice', 'Qiryat Yam',\n",
       "       'Pirane', 'Colima', 'Marshintsy', 'Halinow', 'Hallsberg',\n",
       "       'Celso Ramos', 'White River', 'Taishihe', 'Shanghu', 'Brandsen',\n",
       "       'Ranot', 'Saint-Jouan-Des-Guerets', \"Da'An\", 'Kisovec', 'Abdanan',\n",
       "       'Dafeng', 'Campo Maior', 'Savedalen', 'Brikcha', 'Xidianzi',\n",
       "       'La Union', 'Kliteh', 'Beja', 'Ferreira Do Alentejo', 'Gegernoong',\n",
       "       'La Montanita', 'Sarishabari', 'Mangge', 'Chabarovice', 'Yangping',\n",
       "       'Berezna', 'Vidual', 'Hultsfred', 'Nikaia', 'Macayug', 'Mahanoro',\n",
       "       'Mozdok', 'Hoolt', 'San Luis', 'Pergan', 'Kanoni', 'Gromadka',\n",
       "       'Payapa', 'Rat Burana', 'Trhove Sviny', 'Kiev', 'Lomintsevskiy',\n",
       "       'Monchegorsk', 'Olavarria', 'Jianshan', 'Shreveport', 'Pingzhuang',\n",
       "       'Merlo', 'Ziniare', 'Zdunska Wola', 'Mount Ayliff', 'Pirgaaj',\n",
       "       'Zbraslavice', 'Xilu', 'Bamut', 'La Tour-Du-Pin', 'Pader Palwo',\n",
       "       'Maurisu', 'Gorzyce', 'Qingyun', 'Jiuxian', 'Ndungu',\n",
       "       'Emiliano Zapata', 'Spasskoye', 'Gierloz', 'Sobue', 'High Point',\n",
       "       'Qiankeng', 'Pandean', 'Phong Dien', 'Mirow', 'Franceville',\n",
       "       'Bordeaux', 'Zamora', 'Jubaoshan', 'Shadegan', 'Gueltat Zemmour',\n",
       "       \"Mosal'Sk\", 'Kokstad', 'Malasin', 'Huaqiu', 'Loket',\n",
       "       'Santa Maria Do Souto', 'Yanshang', 'Tempuran', 'Karafao',\n",
       "       'Sao Cristovao', 'Buensuseso', 'Blantyre', \"Kozel'Shchyna\",\n",
       "       'Cibuah', 'Cockburn Town', 'Maslog', \"Faqqu'Ah\", 'Yelyzavethradka',\n",
       "       'Jackson', 'Itaguai', 'Ftelia', 'Kiambu', 'Xiber-Murrize', 'Xudat',\n",
       "       'Yaodu', 'Saint-Gratien', 'Totora', 'Goteborg', 'Caslav',\n",
       "       'Rudnogorsk', 'Pindiga', 'Adela', 'Krajan Baru', 'Jinqiao',\n",
       "       'Barg-E Matal', 'Argenteuil', 'Daying', 'Ngrejo', 'Xieba', 'Sigli',\n",
       "       'Aristobulo Del Valle', 'Cane', 'Podhum', 'Vilar', 'Portela',\n",
       "       'Arendal', 'Nabinagar', 'La Ravoire', 'Dostoyevka', 'Liuzhou',\n",
       "       'Sao Mateus Do Maranhao', 'Rumbek', 'Cigedang', 'Muaralabuh',\n",
       "       'Chelmiec', 'Santa Marta', 'Brando', 'Liangshuihe', 'Cimara',\n",
       "       'Sanxing', 'Linao', 'Bairan', 'Abaetetuba', 'Pasirjaya', 'Acheng',\n",
       "       'Huakoulongtan', 'Burgastai', 'Chavarria', 'Demuk', 'Sertolovo',\n",
       "       'Jixian', 'Deqing', 'Sala', 'Dlutow', 'Regimin', 'Semiletka',\n",
       "       'Dayr Sharaf', 'Adani', 'Rakhiv', \"Ma'An\", 'Navoiy',\n",
       "       'Sishilichengzi', 'Tigaherang', 'Villa Dolores', 'Poa', 'Shibushi',\n",
       "       'Tilburg', 'Ugra', 'Montreuil', 'Garibaldi', 'Tiang', 'Mouquim',\n",
       "       'Montecristi', 'Prince Albert', 'Zajecov', 'Liushun', 'Sancha',\n",
       "       'Damnoen Saduak', 'Cianorte', 'Liuzuo', 'Kashmar', \"'Arad\",\n",
       "       'Lenart V Slov. Goricah', 'Bigaa', 'Guadalupe', 'Xiaruyue',\n",
       "       'Gweedore', 'Przelewice', 'Dalumangcob', 'Cravo Norte', 'Monteria',\n",
       "       \"Mikun'\", 'Samamiya', 'Tanahmerah', 'Orebro', 'Kefar Yona',\n",
       "       'Pasto', 'Huangtan', \"Il'Inskiy\", 'Ugljevik', 'Na Chaluai',\n",
       "       'Marolambo', 'Cali', 'Tamana', 'Miyazu', 'Gryfow Slaski',\n",
       "       'Pinagsibaan', 'Jardin', 'Aguilares', 'Muslyumovo', 'Taiyuan',\n",
       "       'Chatturat', 'Paisha', 'Kadugadung', 'Paris 15', 'Dualing',\n",
       "       'Adelaide', 'Pingshi', 'Renshan', 'Sobinka', 'Narol', 'Fresno',\n",
       "       'Vabalninkas', 'Jambuwerkrajan', 'Ozubulu', 'Nakhchivan',\n",
       "       'Curumani', 'Praia', 'Pallisa', 'San Pascual',\n",
       "       \"'Asirah Ash Shamaliyah\", 'Dom Pedrito', 'San Sebastian De Yali',\n",
       "       'Shchekino', 'Turkestan', 'Rzeczenica', 'Perzow',\n",
       "       'Sabon Gari-Nangere', 'Hengshui', 'Nantes', 'Tamorot', 'Sinchao',\n",
       "       'Anding', 'Rukem', 'Bogovarovo', 'Valbo', 'Jaguaruana',\n",
       "       'Taqchah Khanah', 'Lipovci', 'Panagyurishte', 'Thi Tran Than Uyen',\n",
       "       'Clichy', 'Kloczew', 'Zhukovo', 'Nykoping', 'Jianmin',\n",
       "       'Bucaramanga', 'Kudanding', 'Kyoto', 'Saraburi', 'Negeriagung',\n",
       "       'Latacunga', 'Guanzhou', 'Tabuc Pontevedra', 'Kabale', 'Malveira',\n",
       "       'Veiga', 'Jagistay', 'Yuannan', 'Mount Darwin',\n",
       "       \"Qal'Eh-Ye Khvajeh\", 'Al Qararah', 'Fandriana', 'Carregueira',\n",
       "       'Lincheng', 'Semenivka', 'Ylane', 'Cendagah', 'Firuzabad',\n",
       "       'Trondheim', 'Yakovlevo', 'Katav-Ivanovsk', 'Voznesenskoye',\n",
       "       'Voskhod', 'Gudja', 'Gawul', 'Sobeok', 'Nanhuang', 'Tanudan',\n",
       "       'Jiaozuo', 'Takab', 'Gualeguay', 'Lagoa Seca', 'Bugarama',\n",
       "       'Dicamay', 'Xiluodu', 'Hababah', 'Lobuk', 'Waiwukak', 'Abaete',\n",
       "       'Xiaqiao', 'Zububah', 'Kesowo', 'Colombo', 'Messini', 'Yishui',\n",
       "       'Nanyaojie', 'Buzen', 'Bom Jesus Do Itabapoana', 'Centenario',\n",
       "       'Al Jizah', 'Thi Tran Cam Thuy', 'Curahkalak Tengah', 'Ebu',\n",
       "       'Tio Pujio', 'Shaxi', 'Kelishad Va Sudarjan', 'Segodim', 'Yinying',\n",
       "       'Harembo', 'Lazarevac', 'Zhongcun', 'Gaopeng', 'Tabonok', 'Tirana',\n",
       "       'Maralal', 'Xinjiang', 'Mocho', 'Likhoy', 'Mineiros',\n",
       "       'Noisy-Le-Grand', 'Taoyuan', 'San Marcos De Colon', 'Pokrovka',\n",
       "       'Shuntian', 'Joao Camara', 'Cunha', 'Fengyi', 'Myshkin',\n",
       "       'Tewulike', 'Bistrinci', 'Chenguang', 'Muara', 'Qorveh',\n",
       "       'Bom Despacho', 'Arhust', 'Thaton', 'Changbai', 'Kragan', 'Bida',\n",
       "       'Pointe Michel', 'Juyuan', 'Sabugo', 'Huangjin', 'Huquan',\n",
       "       'Xinqiao', 'Trzemeszno', 'Dashkawka', 'Sakura', 'Lianghu',\n",
       "       'Karabash', 'Maomiaoji', 'Pingtian', 'Tisina',\n",
       "       'Montceau-Les-Mines', 'Karengan', 'Sungai Raya', 'Zwedru', 'Tahta',\n",
       "       'Masaran', 'Huangtang', 'Skoutari', 'Jelat', 'Doibang',\n",
       "       'Kazimierz Dolny', 'Margasari', 'Garca', 'Muff', 'Kryva Hora',\n",
       "       'Pyra', 'General Lavalle', 'Zhongzhang', 'Estacion',\n",
       "       'Xinglongchang', 'San Nicolas', 'Ropa', 'San Diego', 'Pan-An',\n",
       "       'Shu', 'Mojogajeh', 'Mawu', 'Genting', 'Madan', 'Hexiangqiao',\n",
       "       'Na Muen', 'Gafargaon', 'Qingban', 'Labege', 'Port Elizabeth',\n",
       "       'Sauri', 'Desakolot', 'Huambo', 'Luoting', 'Stepnogorsk',\n",
       "       'Zarechnyy', 'Banjar Medura', 'Arnprior', 'Donglu', 'Inderka',\n",
       "       'Tochio-Honcho', 'Pasadena', 'Barishal', 'Kihurio', 'Oekero',\n",
       "       'Cluses', 'Wrzasowice', 'Hengfeng', 'Bor', 'Nawu', 'Longotea',\n",
       "       'Habil Al Jabr', 'Gueset', 'Likak', 'Yuanguping', 'Colon', 'Lyon',\n",
       "       'Chamical', 'Agios Andreas', 'Cibeusi', 'Itsandzeni', 'Kosh-Agach',\n",
       "       'Kuafeu', 'Xincheng', 'Minneapolis', 'Pefki', 'Hawalli', 'Imielin',\n",
       "       'Przeworsk', 'Amsterdam Nieuw West', 'Klishkivtsi', 'Borova',\n",
       "       'Vendargues', 'Zilang', 'Camalote', 'Julayjilah', 'Badajoz',\n",
       "       'Fort Wayne', 'Galan', 'Saint Joseph',\n",
       "       \"Hospitalet De Llobregat, L'\", 'Palma De Mallorca', 'Pho Duc',\n",
       "       'Leba', 'Yaguaraparo', 'Novoorsk', 'Wuyang', 'Pelasgia',\n",
       "       'Phuc Tho', 'Vsevolozhsk', 'Kara Suu', 'Beigucheng', 'Cerro',\n",
       "       'Yamaga', 'Sacramento', 'Foso', 'Nowe Brzesko', 'Konarak',\n",
       "       'Qingshandi', 'Mbala', 'Shiqiao', 'Yatsuomachi-Higashikumisaka',\n",
       "       'Czarna Dabrowka', 'Pasirmadang', 'Mano', 'Tiwi', 'Ahar', 'Dake',\n",
       "       'Harstad', 'Perbaungan', 'Soroti', 'Caruaru', 'Kamiennik',\n",
       "       'Boundiali', 'Gotene', 'Kadumelati', 'Amparo', 'Shimen',\n",
       "       'Philadelphia', 'Myingyan', 'Qingqu', 'Poste De Flacq',\n",
       "       'Tawr Al Bahah', 'Phu Loc', 'Jembangan', 'Harhorin', 'Meijiang',\n",
       "       'Langub', 'Bangbayang', 'Steborice', 'Banturkrajan', 'Sao Torcato',\n",
       "       'Kapan', 'Van Giang', 'Tanushimarumachi-Toyoki', 'Kazo',\n",
       "       'Rawa Mazowiecka', 'Wonsan', 'Villavicencio', 'Berlin', 'Wailang',\n",
       "       'Fangshan', 'Tallahassee', 'Anchorage', 'Mulhouse', 'Tangkilsari',\n",
       "       'San Carlos', 'Queluz', 'Sarkisalo', 'Vitoria-Gasteiz', 'Coro',\n",
       "       'Purwa', 'Gavle', 'Embu Guacu', 'Fubin', 'Talshand', 'Palampal',\n",
       "       'Kamarai', 'Ettelbruck', 'Cawayan', 'Don Carlos', 'Cervantes',\n",
       "       'Ebebiyin', 'Chuquitira', 'Proletarsk', 'Naghalin', 'Honolulu',\n",
       "       'Dhalie', 'Giesteira', 'Khilok', 'Vereshchagino', 'Binagadi',\n",
       "       'Tsuen Wan', 'Banjar Batanpoh', 'Yenakiyeve', 'San Ramon',\n",
       "       'Sakete', 'Pantenan', 'Antrukan', 'Dhahab', 'Vetluga', 'Wolfsberg',\n",
       "       'San Bautista', 'Reuleuet', 'Lonpao Dajah', 'Nanqiao', 'Ishikawa',\n",
       "       'Oguma', 'Tesany', 'Aksha', 'Lahan Sai', 'Estancia', 'Las Lomas',\n",
       "       'Xiamayu', 'Inapari', 'Orsay', 'Zhongying', 'Bayhan', 'Beizhakou',\n",
       "       'Kyongsong', 'Turinsk', 'As Sawda', 'Legaspi', 'Shimorskoye',\n",
       "       'Koscielec', 'Yongfu', 'Vinkkila', 'Revolucion Verde', 'Newton',\n",
       "       'Nantang', 'Perugia', 'Tancheng', 'Leon Postigo', 'Bollene',\n",
       "       'Baihe', 'Puqi', 'Pedraza', 'Pasinan Barat', 'Saltpond', 'Rende',\n",
       "       'Zarasai', 'Nanchangshan', 'Pegoes', 'Espirito Santo Do Pinhal',\n",
       "       'Ujezd', 'Bhadrapur', 'Kostrovo', 'Lemery', 'Youcheng', 'Napoli',\n",
       "       'El Cano', 'Heemstede', 'Panyam', 'Faraulep', 'San Isidro',\n",
       "       'Mranggen', 'Cigadog', 'Caitang', 'Masoyila', 'Beiyuan', 'Kariya',\n",
       "       'Malakhovka', 'At-Bashi', 'Sankeyushu', 'Limoges', 'Hagersten',\n",
       "       'Tarata', 'Marabahan', 'Eslamabad', 'Emar', 'Baisha', 'Skorzec',\n",
       "       'Sao Joao Dos Inhamuns', 'Tambaksari', 'Lazarat', 'Belene',\n",
       "       'Xiangshan', 'Zengfu', 'Tingsryd', 'Tipaz', 'Wadi As Salqa',\n",
       "       'Wasagu', 'Wangsi', 'Esmeralda', 'Chivilcoy',\n",
       "       'Sao Miguel Do Araguaia', 'Libei', 'Kucove', 'Bokong Timur',\n",
       "       'Gaowu', 'Gueret', 'Postrekov', 'Gobojango', 'Tandahimba', 'Iwade',\n",
       "       'La Guata', 'Saint-Brieuc', 'Paya Dapur', 'Xinzha', 'Al Qarah',\n",
       "       'Antipolo', 'Yuyangguan', 'Qiman', 'Maguwon', 'Tsibulev',\n",
       "       'San Antonio Aguas Calientes', 'Pombas', \"Ku'Aydinah\",\n",
       "       'San Marcos', 'Chum Phae', 'La Laja', 'San Juan Del Cesar',\n",
       "       'Taiyigong', 'Tayabamba', 'Majennang', 'Njeru', 'Ambatolaona',\n",
       "       'Jianggang', 'Langkou', 'Horni Sucha', 'Haradok', 'Vichuga',\n",
       "       'Luci', 'Guolemude', 'Prengtale', 'Cabanas', 'Faizabad', 'Sukumo',\n",
       "       'Fenglu', 'Tanjungbalai', 'Carrefour', 'Hejiang', 'Yaizu', 'Kembe',\n",
       "       'Novokayakent', 'Hekou', 'Bailadores', 'Masuda', 'Martanesh',\n",
       "       'Xinzhou', 'Nanfeng', 'Oke Ila', 'Rio Pardo', 'Pingtang',\n",
       "       'Podbrdo', 'Aramayuan', 'Paquera', 'Warudoyong', 'Beziers',\n",
       "       'Dongzhou'], dtype=object)"
      ]
     },
     "metadata": {},
     "output_type": "display_data"
    }
   ],
   "source": [
    "# Cell 3: Clean the Location column\n",
    "#  - Strip leading/trailing whitespace\n",
    "#  - Normalize text (remove accents, unify case)\n",
    "#  - Keep 'None' entries unchanged\n",
    "def clean_location(loc):\n",
    "    if pd.isna(loc) or loc == 'None':\n",
    "        return loc  # preserve NaN or literal 'None'\n",
    "    loc_str = str(loc).strip()\n",
    "    loc_norm = unidecode(loc_str).title()\n",
    "    return loc_norm\n",
    "\n",
    "# Apply cleaning\n",
    "df['Location'] = df['Location'].apply(clean_location)\n",
    "\n",
    "# Verify uniqueness\n",
    "display(df['Location'].unique())\n",
    "\n"
   ]
  },
  {
   "cell_type": "code",
   "execution_count": 68,
   "id": "38cf3b4e",
   "metadata": {},
   "outputs": [
    {
     "name": "stdout",
     "output_type": "stream",
     "text": [
      "Purchase_Amount dtype before: object\n"
     ]
    }
   ],
   "source": [
    "# Cell 4: Preserve Purchase_Amount as-is (keep currency symbols and formatting)\n",
    "print('Purchase_Amount dtype before:', df['Purchase_Amount'].dtype)\n",
    "\n"
   ]
  },
  {
   "cell_type": "code",
   "execution_count": 69,
   "id": "fb735bad",
   "metadata": {},
   "outputs": [
    {
     "name": "stderr",
     "output_type": "stream",
     "text": [
      "C:\\Users\\USER\\AppData\\Local\\Temp\\ipykernel_36336\\2091048217.py:6: UserWarning: The argument 'infer_datetime_format' is deprecated and will be removed in a future version. A strict version of it is now the default, see https://pandas.pydata.org/pdeps/0004-consistent-to-datetime-parsing.html. You can safely remove this argument.\n",
      "  df['Time_of_Purchase'] = pd.to_datetime(\n",
      "C:\\Users\\USER\\AppData\\Local\\Temp\\ipykernel_36336\\2091048217.py:10: FutureWarning: Setting an item of incompatible dtype is deprecated and will raise an error in a future version of pandas. Value 'None' has dtype incompatible with datetime64[ns], please explicitly cast to a compatible dtype first.\n",
      "  df.loc[df['Time_of_Purchase_str'] == 'None', 'Time_of_Purchase'] = 'None'\n"
     ]
    },
    {
     "data": {
      "text/html": [
       "<div>\n",
       "<style scoped>\n",
       "    .dataframe tbody tr th:only-of-type {\n",
       "        vertical-align: middle;\n",
       "    }\n",
       "\n",
       "    .dataframe tbody tr th {\n",
       "        vertical-align: top;\n",
       "    }\n",
       "\n",
       "    .dataframe thead th {\n",
       "        text-align: right;\n",
       "    }\n",
       "</style>\n",
       "<table border=\"1\" class=\"dataframe\">\n",
       "  <thead>\n",
       "    <tr style=\"text-align: right;\">\n",
       "      <th></th>\n",
       "      <th>Time_of_Purchase_str</th>\n",
       "      <th>Time_of_Purchase</th>\n",
       "    </tr>\n",
       "  </thead>\n",
       "  <tbody>\n",
       "    <tr>\n",
       "      <th>0</th>\n",
       "      <td>3/1/2024</td>\n",
       "      <td>2024-03-01 00:00:00</td>\n",
       "    </tr>\n",
       "    <tr>\n",
       "      <th>1</th>\n",
       "      <td>4/16/2024</td>\n",
       "      <td>2024-04-16 00:00:00</td>\n",
       "    </tr>\n",
       "    <tr>\n",
       "      <th>2</th>\n",
       "      <td>3/15/2024</td>\n",
       "      <td>2024-03-15 00:00:00</td>\n",
       "    </tr>\n",
       "    <tr>\n",
       "      <th>3</th>\n",
       "      <td>10/4/2024</td>\n",
       "      <td>2024-10-04 00:00:00</td>\n",
       "    </tr>\n",
       "    <tr>\n",
       "      <th>4</th>\n",
       "      <td>1/30/2024</td>\n",
       "      <td>2024-01-30 00:00:00</td>\n",
       "    </tr>\n",
       "  </tbody>\n",
       "</table>\n",
       "</div>"
      ],
      "text/plain": [
       "  Time_of_Purchase_str     Time_of_Purchase\n",
       "0             3/1/2024  2024-03-01 00:00:00\n",
       "1            4/16/2024  2024-04-16 00:00:00\n",
       "2            3/15/2024  2024-03-15 00:00:00\n",
       "3            10/4/2024  2024-10-04 00:00:00\n",
       "4            1/30/2024  2024-01-30 00:00:00"
      ]
     },
     "metadata": {},
     "output_type": "display_data"
    }
   ],
   "source": [
    "# Cell 5: Convert Time_of_Purchase to datetime\n",
    "#  - Preserve original strings in 'Time_of_Purchase_str'\n",
    "#  - For entries with 'None', keep literal 'None' in cleaned column\n",
    "\n",
    "df['Time_of_Purchase_str'] = df['Time_of_Purchase']\n",
    "df['Time_of_Purchase'] = pd.to_datetime(\n",
    "    df['Time_of_Purchase_str'], infer_datetime_format=True, errors='coerce'\n",
    ")\n",
    "# Restore 'None' for those entries\n",
    "df.loc[df['Time_of_Purchase_str'] == 'None', 'Time_of_Purchase'] = 'None'\n",
    "\n",
    "# Verify conversion\n",
    "display(df[['Time_of_Purchase_str', 'Time_of_Purchase']].head())\n",
    "\n"
   ]
  },
  {
   "cell_type": "code",
   "execution_count": 70,
   "id": "00203e54",
   "metadata": {},
   "outputs": [
    {
     "data": {
      "text/html": [
       "<div>\n",
       "<style scoped>\n",
       "    .dataframe tbody tr th:only-of-type {\n",
       "        vertical-align: middle;\n",
       "    }\n",
       "\n",
       "    .dataframe tbody tr th {\n",
       "        vertical-align: top;\n",
       "    }\n",
       "\n",
       "    .dataframe thead th {\n",
       "        text-align: right;\n",
       "    }\n",
       "</style>\n",
       "<table border=\"1\" class=\"dataframe\">\n",
       "  <thead>\n",
       "    <tr style=\"text-align: right;\">\n",
       "      <th></th>\n",
       "      <th>Social_Media_Influence</th>\n",
       "      <th>Engagement_with_Ads</th>\n",
       "    </tr>\n",
       "  </thead>\n",
       "  <tbody>\n",
       "    <tr>\n",
       "      <th>0</th>\n",
       "      <td>NaN</td>\n",
       "      <td>NaN</td>\n",
       "    </tr>\n",
       "    <tr>\n",
       "      <th>1</th>\n",
       "      <td>Medium</td>\n",
       "      <td>High</td>\n",
       "    </tr>\n",
       "    <tr>\n",
       "      <th>2</th>\n",
       "      <td>Low</td>\n",
       "      <td>Low</td>\n",
       "    </tr>\n",
       "    <tr>\n",
       "      <th>3</th>\n",
       "      <td>High</td>\n",
       "      <td>NaN</td>\n",
       "    </tr>\n",
       "    <tr>\n",
       "      <th>4</th>\n",
       "      <td>Medium</td>\n",
       "      <td>NaN</td>\n",
       "    </tr>\n",
       "  </tbody>\n",
       "</table>\n",
       "</div>"
      ],
      "text/plain": [
       "  Social_Media_Influence Engagement_with_Ads\n",
       "0                    NaN                 NaN\n",
       "1                 Medium                High\n",
       "2                    Low                 Low\n",
       "3                   High                 NaN\n",
       "4                 Medium                 NaN"
      ]
     },
     "metadata": {},
     "output_type": "display_data"
    }
   ],
   "source": [
    "# Cell 6: Define safe numeric converters to preserve 'None'\n",
    "def safe_to_float(x):\n",
    "    if pd.isna(x) or x == 'None':\n",
    "        return x\n",
    "    try:\n",
    "        return float(x)\n",
    "    except Exception:\n",
    "        return np.nan\n",
    "\n",
    "# Convert research time\n",
    "df['Time_Spent_on_Product_Research(hours)'] = df['Time_Spent_on_Product_Research(hours)'].apply(safe_to_float)\n",
    "\n",
    "# Convert other integer-like columns safely\n",
    "int_cols = ['Age', 'Product_Rating', 'Return_Rate', 'Customer_Satisfaction', 'Time_to_Decision']\n",
    "for col in int_cols:\n",
    "    def safe_to_int(x):\n",
    "        if pd.isna(x) or x == 'None':\n",
    "            return x\n",
    "        try:\n",
    "            return int(float(x))\n",
    "        except Exception:\n",
    "            return np.nan\n",
    "    df[col] = df[col].apply(safe_to_int)\n",
    "\n",
    "# Leave Social_Media_Influence and Engagement_with_Ads untouched to prevent data loss\n",
    "display(df[['Social_Media_Influence', 'Engagement_with_Ads']].head())\n",
    "\n"
   ]
  },
  {
   "cell_type": "code",
   "execution_count": 71,
   "id": "13b4444f",
   "metadata": {},
   "outputs": [
    {
     "name": "stdout",
     "output_type": "stream",
     "text": [
      "<class 'pandas.core.frame.DataFrame'>\n",
      "RangeIndex: 1000 entries, 0 to 999\n",
      "Data columns (total 29 columns):\n",
      " #   Column                                 Non-Null Count  Dtype  \n",
      "---  ------                                 --------------  -----  \n",
      " 0   Customer_ID                            1000 non-null   object \n",
      " 1   Age                                    1000 non-null   int64  \n",
      " 2   Gender                                 1000 non-null   object \n",
      " 3   Income_Level                           1000 non-null   object \n",
      " 4   Marital_Status                         1000 non-null   object \n",
      " 5   Education_Level                        1000 non-null   object \n",
      " 6   Occupation                             1000 non-null   object \n",
      " 7   Location                               1000 non-null   object \n",
      " 8   Purchase_Category                      1000 non-null   object \n",
      " 9   Purchase_Amount                        1000 non-null   object \n",
      " 10  Frequency_of_Purchase                  1000 non-null   int64  \n",
      " 11  Purchase_Channel                       1000 non-null   object \n",
      " 12  Brand_Loyalty                          1000 non-null   int64  \n",
      " 13  Product_Rating                         1000 non-null   int64  \n",
      " 14  Time_Spent_on_Product_Research(hours)  1000 non-null   float64\n",
      " 15  Social_Media_Influence                 753 non-null    object \n",
      " 16  Discount_Sensitivity                   1000 non-null   object \n",
      " 17  Return_Rate                            1000 non-null   int64  \n",
      " 18  Customer_Satisfaction                  1000 non-null   int64  \n",
      " 19  Engagement_with_Ads                    744 non-null    object \n",
      " 20  Device_Used_for_Shopping               1000 non-null   object \n",
      " 21  Payment_Method                         1000 non-null   object \n",
      " 22  Time_of_Purchase                       1000 non-null   object \n",
      " 23  Discount_Used                          1000 non-null   bool   \n",
      " 24  Customer_Loyalty_Program_Member        1000 non-null   bool   \n",
      " 25  Purchase_Intent                        1000 non-null   object \n",
      " 26  Shipping_Preference                    1000 non-null   object \n",
      " 27  Time_to_Decision                       1000 non-null   int64  \n",
      " 28  Time_of_Purchase_str                   1000 non-null   object \n",
      "dtypes: bool(2), float64(1), int64(7), object(19)\n",
      "memory usage: 213.0+ KB\n"
     ]
    },
    {
     "data": {
      "text/plain": [
       "None"
      ]
     },
     "metadata": {},
     "output_type": "display_data"
    }
   ],
   "source": [
    "# Cell 7: Final overview\n",
    "display(df.info())\n"
   ]
  },
  {
   "cell_type": "code",
   "execution_count": 72,
   "id": "3ba238d2",
   "metadata": {},
   "outputs": [
    {
     "name": "stderr",
     "output_type": "stream",
     "text": [
      "C:\\Users\\USER\\AppData\\Local\\Temp\\ipykernel_36336\\1440807561.py:4: FutureWarning: Downcasting object dtype arrays on .fillna, .ffill, .bfill is deprecated and will change in a future version. Call result.infer_objects(copy=False) instead. To opt-in to the future behavior, set `pd.set_option('future.no_silent_downcasting', True)`\n",
      "  df = df.fillna('None')\n"
     ]
    }
   ],
   "source": [
    "# Cell 8: Replace all remaining NaN values with literal 'None'\n",
    "# This ensures no blank entries remain\n",
    "\n",
    "df = df.fillna('None')\n"
   ]
  },
  {
   "cell_type": "code",
   "execution_count": 73,
   "id": "fb0f53b1",
   "metadata": {},
   "outputs": [
    {
     "name": "stdout",
     "output_type": "stream",
     "text": [
      "Cleaned dataset saved to EcommerceConsumerBehavior_Cleaned.csv\n",
      "<class 'pandas.core.frame.DataFrame'>\n",
      "RangeIndex: 1000 entries, 0 to 999\n",
      "Data columns (total 29 columns):\n",
      " #   Column                                 Non-Null Count  Dtype         \n",
      "---  ------                                 --------------  -----         \n",
      " 0   Customer_ID                            1000 non-null   object        \n",
      " 1   Age                                    1000 non-null   int64         \n",
      " 2   Gender                                 1000 non-null   object        \n",
      " 3   Income_Level                           1000 non-null   object        \n",
      " 4   Marital_Status                         1000 non-null   object        \n",
      " 5   Education_Level                        1000 non-null   object        \n",
      " 6   Occupation                             1000 non-null   object        \n",
      " 7   Location                               1000 non-null   object        \n",
      " 8   Purchase_Category                      1000 non-null   object        \n",
      " 9   Purchase_Amount                        1000 non-null   object        \n",
      " 10  Frequency_of_Purchase                  1000 non-null   int64         \n",
      " 11  Purchase_Channel                       1000 non-null   object        \n",
      " 12  Brand_Loyalty                          1000 non-null   int64         \n",
      " 13  Product_Rating                         1000 non-null   int64         \n",
      " 14  Time_Spent_on_Product_Research(hours)  1000 non-null   float64       \n",
      " 15  Social_Media_Influence                 1000 non-null   object        \n",
      " 16  Discount_Sensitivity                   1000 non-null   object        \n",
      " 17  Return_Rate                            1000 non-null   int64         \n",
      " 18  Customer_Satisfaction                  1000 non-null   int64         \n",
      " 19  Engagement_with_Ads                    1000 non-null   object        \n",
      " 20  Device_Used_for_Shopping               1000 non-null   object        \n",
      " 21  Payment_Method                         1000 non-null   object        \n",
      " 22  Time_of_Purchase                       1000 non-null   datetime64[ns]\n",
      " 23  Discount_Used                          1000 non-null   bool          \n",
      " 24  Customer_Loyalty_Program_Member        1000 non-null   bool          \n",
      " 25  Purchase_Intent                        1000 non-null   object        \n",
      " 26  Shipping_Preference                    1000 non-null   object        \n",
      " 27  Time_to_Decision                       1000 non-null   int64         \n",
      " 28  Time_of_Purchase_str                   1000 non-null   object        \n",
      "dtypes: bool(2), datetime64[ns](1), float64(1), int64(7), object(18)\n",
      "memory usage: 213.0+ KB\n"
     ]
    },
    {
     "data": {
      "text/plain": [
       "None"
      ]
     },
     "metadata": {},
     "output_type": "display_data"
    },
    {
     "name": "stdout",
     "output_type": "stream",
     "text": [
      "Cleaned dataset saved to EcommerceConsumerBehavior_Cleaned.csv\n"
     ]
    }
   ],
   "source": [
    "# Cell 9: Save cleaned dataset\n",
    "df.to_csv('EcommerceConsumerBehavior_Cleaned.csv', index=False)\n",
    "print(\"Cleaned dataset saved to EcommerceConsumerBehavior_Cleaned.csv\")\n",
    "display(df.info())\n",
    "\n",
    "# Save cleaned data\n",
    "df.to_csv('EcommerceConsumerBehavior_Cleaned.csv', index=False)\n",
    "print(\"Cleaned dataset saved to EcommerceConsumerBehavior_Cleaned.csv\")"
   ]
  },
  {
   "cell_type": "markdown",
   "id": "3dbb8d1a",
   "metadata": {},
   "source": [
    "# Predicting Purchase Intent Using Consumer Behavior Data\n",
    "\n",
    "This notebook builds and evaluates models to predict the type of purchase intent (e.g., Need-based, Impulsive, etc.) using e-commerce consumer behavior data.\n"
   ]
  },
  {
   "cell_type": "markdown",
   "id": "3e827e7a",
   "metadata": {},
   "source": [
    "## Logistic Regression and Random Forest"
   ]
  },
  {
   "cell_type": "markdown",
   "id": "afbdea89",
   "metadata": {},
   "source": [
    "### Load Libraries and Dataset\n",
    "This section loads essential libraries used for:\n",
    "- Data preprocessing and cleaning (`pandas`, `numpy`)\n",
    "- Visualization (`matplotlib`)\n",
    "- Machine Learning models and evaluation (`scikit-learn`)"
   ]
  },
  {
   "cell_type": "code",
   "execution_count": 74,
   "id": "318b512e",
   "metadata": {},
   "outputs": [],
   "source": [
    "# Import necessary libraries for data manipulation, visualization, modeling, and evaluation\n",
    "import pandas as pd\n",
    "import numpy as np\n",
    "import matplotlib.pyplot as plt\n",
    "\n",
    "from sklearn.model_selection import train_test_split\n",
    "from sklearn.preprocessing import LabelEncoder, StandardScaler, OneHotEncoder\n",
    "from sklearn.linear_model import LogisticRegression\n",
    "from sklearn.ensemble import RandomForestClassifier\n",
    "from sklearn.metrics import classification_report, confusion_matrix, accuracy_score, f1_score\n",
    "from sklearn.compose import ColumnTransformer\n",
    "from sklearn.pipeline import Pipeline"
   ]
  },
  {
   "cell_type": "markdown",
   "id": "e678d2f2",
   "metadata": {},
   "source": [
    "### Data Preprocessing\n",
    "- Dropped `Customer_ID` (likely a unique identifier) and `Time_of_Purchase_str` (presumably redundant).\n",
    "- Checked for missing values.\n",
    "- Filled any missing numeric values using the **median** to avoid bias from outliers."
   ]
  },
  {
   "cell_type": "code",
   "execution_count": 75,
   "id": "d133ec8b",
   "metadata": {},
   "outputs": [
    {
     "name": "stdout",
     "output_type": "stream",
     "text": [
      "Missing values per column:\n",
      " Age                                        0\n",
      "Gender                                     0\n",
      "Income_Level                               0\n",
      "Marital_Status                             0\n",
      "Education_Level                            0\n",
      "Occupation                                 0\n",
      "Location                                   0\n",
      "Purchase_Category                          0\n",
      "Purchase_Amount                            0\n",
      "Frequency_of_Purchase                      0\n",
      "Purchase_Channel                           0\n",
      "Brand_Loyalty                              0\n",
      "Product_Rating                             0\n",
      "Time_Spent_on_Product_Research(hours)      0\n",
      "Social_Media_Influence                   247\n",
      "Discount_Sensitivity                       0\n",
      "Return_Rate                                0\n",
      "Customer_Satisfaction                      0\n",
      "Engagement_with_Ads                      256\n",
      "Device_Used_for_Shopping                   0\n",
      "Payment_Method                             0\n",
      "Time_of_Purchase                           0\n",
      "Discount_Used                              0\n",
      "Customer_Loyalty_Program_Member            0\n",
      "Purchase_Intent                            0\n",
      "Shipping_Preference                        0\n",
      "Time_to_Decision                           0\n",
      "dtype: int64\n"
     ]
    }
   ],
   "source": [
    "df = pd.read_csv('EcommerceConsumerBehavior_Cleaned.csv')  # Replace with actual file\n",
    "\n",
    "# Drop non-informative columns\n",
    "df.drop(['Customer_ID', 'Time_of_Purchase_str'], axis=1, inplace=True)\n",
    "\n",
    "# Check for missing values\n",
    "print(\"Missing values per column:\\n\", df.isnull().sum())\n",
    "\n",
    "# Fill missing values (if any) with median\n",
    "df.fillna(df.median(numeric_only=True), inplace=True)"
   ]
  },
  {
   "cell_type": "markdown",
   "id": "7b43441d",
   "metadata": {},
   "source": [
    "### Feature and Target Separation\n",
    "- Target: `Purchase_Intent` is encoded for classification.\n",
    "- Features are split into **categorical** and **numerical** for tailored preprocessing."
   ]
  },
  {
   "cell_type": "code",
   "execution_count": 76,
   "id": "35dfd42e",
   "metadata": {},
   "outputs": [],
   "source": [
    "target = 'Purchase_Intent'\n",
    "X = df.drop(target, axis=1)\n",
    "y = df[target]\n",
    "\n",
    "# Encode target\n",
    "le = LabelEncoder()\n",
    "y_encoded = le.fit_transform(y)\n",
    "\n",
    "# Separate features by type\n",
    "categorical_cols = X.select_dtypes(include=['object']).columns.tolist()\n",
    "numeric_cols = X.select_dtypes(include=['int64', 'float64']).columns.tolist()"
   ]
  },
  {
   "cell_type": "markdown",
   "id": "1fa6ae74",
   "metadata": {},
   "source": [
    "### Preprocessing and Pipelines\n",
    "To streamline preprocessing and modeling:\n",
    "- A `ColumnTransformer` standardizes numeric features and one-hot encodes categorical ones.\n",
    "- Pipelines are constructed for:\n",
    "  - **Logistic Regression** (baseline linear model)\n",
    "  - **Random Forest** (ensemble model that handles non-linear relationships)"
   ]
  },
  {
   "cell_type": "code",
   "execution_count": 77,
   "id": "e50d5fc8",
   "metadata": {},
   "outputs": [],
   "source": [
    "preprocessor = ColumnTransformer(transformers=[\n",
    "    ('num', StandardScaler(), numeric_cols),\n",
    "    ('cat', OneHotEncoder(handle_unknown='ignore'), categorical_cols)\n",
    "])\n",
    "\n",
    "logreg_model = Pipeline(steps=[\n",
    "    ('preprocessor', preprocessor),\n",
    "    ('classifier', LogisticRegression(max_iter=1000, multi_class='ovr'))\n",
    "])\n",
    "\n",
    "rf_model = Pipeline(steps=[\n",
    "    ('preprocessor', preprocessor),\n",
    "    ('classifier', RandomForestClassifier(n_estimators=100, random_state=42))\n",
    "])"
   ]
  },
  {
   "cell_type": "markdown",
   "id": "93e352c9",
   "metadata": {},
   "source": [
    "### Train/Test Split\n",
    "- Split the dataset into 80% training and 20% testing.\n",
    "- Used **stratified sampling** to maintain class balance in both splits."
   ]
  },
  {
   "cell_type": "code",
   "execution_count": 78,
   "id": "758caaf6",
   "metadata": {},
   "outputs": [],
   "source": [
    "X_train, X_test, y_train, y_test = train_test_split(\n",
    "    X, y_encoded, test_size=0.2, random_state=42, stratify=y_encoded\n",
    ")"
   ]
  },
  {
   "cell_type": "markdown",
   "id": "11d78852",
   "metadata": {},
   "source": [
    "### Model Training\n",
    "- Trained both models using the training set.\n",
    "- Predictions made on the test set."
   ]
  },
  {
   "cell_type": "code",
   "execution_count": 79,
   "id": "b1927b1c",
   "metadata": {},
   "outputs": [
    {
     "name": "stderr",
     "output_type": "stream",
     "text": [
      "c:\\Users\\USER\\AppData\\Local\\Programs\\Python\\Python313\\Lib\\site-packages\\sklearn\\linear_model\\_logistic.py:1256: FutureWarning: 'multi_class' was deprecated in version 1.5 and will be removed in 1.7. Use OneVsRestClassifier(LogisticRegression(..)) instead. Leave it to its default value to avoid this warning.\n",
      "  warnings.warn(\n"
     ]
    }
   ],
   "source": [
    "logreg_model.fit(X_train, y_train)\n",
    "y_pred_logreg = logreg_model.predict(X_test)\n",
    "\n",
    "rf_model.fit(X_train, y_train)\n",
    "y_pred_rf = rf_model.predict(X_test)"
   ]
  },
  {
   "cell_type": "markdown",
   "id": "9a905097",
   "metadata": {},
   "source": [
    "### Model Evaluation\n",
    " - Evaluated performance using:\n",
    "  - **Classification report** (Precision, Recall, F1)\n",
    "  - **Confusion matrix** to inspect correct vs. incorrect predictions.\n",
    "- **Random Forest outperformed** Logistic Regression in F1 score and accuracy."
   ]
  },
  {
   "cell_type": "code",
   "execution_count": 80,
   "id": "3b784233",
   "metadata": {},
   "outputs": [
    {
     "name": "stdout",
     "output_type": "stream",
     "text": [
      "Logistic Regression Performance:\n",
      "              precision    recall  f1-score   support\n",
      "\n",
      "   Impulsive       0.20      0.22      0.21        50\n",
      "  Need-based       0.17      0.18      0.17        51\n",
      "     Planned       0.21      0.20      0.21        49\n",
      " Wants-based       0.14      0.12      0.13        50\n",
      "\n",
      "    accuracy                           0.18       200\n",
      "   macro avg       0.18      0.18      0.18       200\n",
      "weighted avg       0.18      0.18      0.18       200\n",
      "\n",
      "Confusion Matrix:\n",
      " [[11 15 13 11]\n",
      " [15  9 12 15]\n",
      " [14 14 10 11]\n",
      " [16 15 13  6]]\n",
      "\n",
      "Random Forest Performance:\n",
      "              precision    recall  f1-score   support\n",
      "\n",
      "   Impulsive       0.18      0.20      0.19        50\n",
      "  Need-based       0.25      0.31      0.28        51\n",
      "     Planned       0.24      0.18      0.21        49\n",
      " Wants-based       0.29      0.24      0.26        50\n",
      "\n",
      "    accuracy                           0.23       200\n",
      "   macro avg       0.24      0.23      0.23       200\n",
      "weighted avg       0.24      0.23      0.23       200\n",
      "\n",
      "Confusion Matrix:\n",
      " [[10 19 10 11]\n",
      " [16 16 10  9]\n",
      " [15 15  9 10]\n",
      " [15 14  9 12]]\n"
     ]
    }
   ],
   "source": [
    "print(\"Logistic Regression Performance:\")\n",
    "print(classification_report(y_test, y_pred_logreg, target_names=le.classes_))\n",
    "print(\"Confusion Matrix:\\n\", confusion_matrix(y_test, y_pred_logreg))\n",
    "\n",
    "print(\"\\nRandom Forest Performance:\")\n",
    "print(classification_report(y_test, y_pred_rf, target_names=le.classes_))\n",
    "print(\"Confusion Matrix:\\n\", confusion_matrix(y_test, y_pred_rf))"
   ]
  },
  {
   "cell_type": "markdown",
   "id": "aeed5033",
   "metadata": {},
   "source": [
    "### Accuracy & F1 Score Comparison\n",
    "Compare model performance on two metrics:\n",
    "- **Accuracy**: Overall correctness.\n",
    "- **F1 Score (weighted)**: Accounts for class imbalance.\n",
    "\n",
    "This side-by-side bar chart highlights trade-offs between precision and recall, and emphasizes model generalizability."
   ]
  },
  {
   "cell_type": "code",
   "execution_count": 81,
   "id": "477a3d07",
   "metadata": {},
   "outputs": [
    {
     "data": {
      "image/png": "[encoded data removed]",
      "text/plain": [
       "<Figure size 800x500 with 1 Axes>"
      ]
     },
     "metadata": {},
     "output_type": "display_data"
    }
   ],
   "source": [
    "logreg_acc = accuracy_score(y_test, y_pred_logreg)\n",
    "rf_acc = accuracy_score(y_test, y_pred_rf)\n",
    "\n",
    "logreg_f1 = f1_score(y_test, y_pred_logreg, average='weighted')\n",
    "rf_f1 = f1_score(y_test, y_pred_rf, average='weighted')\n",
    "\n",
    "models = ['Logistic Regression', 'Random Forest']\n",
    "accuracies = [logreg_acc, rf_acc]\n",
    "f1_scores = [logreg_f1, rf_f1]\n",
    "\n",
    "plt.figure(figsize=(8, 5))\n",
    "bar_width = 0.35\n",
    "x = np.arange(len(models))\n",
    "\n",
    "plt.bar(x, accuracies, width=bar_width, label='Accuracy', color='steelblue')\n",
    "plt.bar(x + bar_width, f1_scores, width=bar_width, label='F1 Score', color='orange')\n",
    "\n",
    "plt.ylabel('Score')\n",
    "plt.title('Model Comparison: Accuracy vs F1 Score')\n",
    "plt.xticks(x + bar_width / 2, models)\n",
    "plt.legend()\n",
    "plt.grid(axis='y')\n",
    "plt.tight_layout()\n",
    "plt.show()"
   ]
  },
  {
   "cell_type": "markdown",
   "id": "b08ed2e3",
   "metadata": {},
   "source": [
    "### Feature Importance (Random Forest)\n",
    "- Visualized top 10 features from Random Forest.\n",
    "- Helps identify **key predictors** of consumer purchase intent.\n",
    "- Insights can support **targeted marketing or UX improvements**."
   ]
  },
  {
   "cell_type": "code",
   "execution_count": 82,
   "id": "1838e5ad",
   "metadata": {},
   "outputs": [
    {
     "data": {
      "image/png": "[encoded data removed]",
      "text/plain": [
       "<Figure size 900x600 with 1 Axes>"
      ]
     },
     "metadata": {},
     "output_type": "display_data"
    }
   ],
   "source": [
    "ohe = rf_model.named_steps['preprocessor'].named_transformers_['cat']\n",
    "encoded_cat_features = ohe.get_feature_names_out(categorical_cols)\n",
    "all_feature_names = numeric_cols + list(encoded_cat_features)\n",
    "\n",
    "rf_clf = rf_model.named_steps['classifier']\n",
    "importances = rf_clf.feature_importances_\n",
    "\n",
    "indices = np.argsort(importances)[-10:][::-1]\n",
    "top_features = [all_feature_names[i] for i in indices]\n",
    "top_importances = importances[indices]\n",
    "\n",
    "plt.figure(figsize=(9, 6))\n",
    "plt.barh(top_features, top_importances, color='mediumseagreen')\n",
    "plt.xlabel('Importance Score')\n",
    "plt.title('Top 10 Important Features (Random Forest)')\n",
    "plt.gca().invert_yaxis()\n",
    "plt.tight_layout()\n",
    "plt.show()"
   ]
  },
  {
   "cell_type": "markdown",
   "id": "16493a49",
   "metadata": {},
   "source": [
    "###  Additional Visualisations"
   ]
  },
  {
   "cell_type": "markdown",
   "id": "71dacce0",
   "metadata": {},
   "source": [
    "#### Boxplot: Time Spent on Product Research by Purchase Intent"
   ]
  },
  {
   "cell_type": "code",
   "execution_count": 83,
   "id": "08084a1a",
   "metadata": {},
   "outputs": [
    {
     "name": "stderr",
     "output_type": "stream",
     "text": [
      "C:\\Users\\USER\\AppData\\Local\\Temp\\ipykernel_36336\\736640227.py:4: MatplotlibDeprecationWarning: The 'labels' parameter of boxplot() has been renamed 'tick_labels' since Matplotlib 3.9; support for the old name will be dropped in 3.11.\n",
      "  plt.boxplot(data, labels=purchase_intents)\n"
     ]
    },
    {
     "data": {
      "image/png": "[encoded data removed]",
      "text/plain": [
       "<Figure size 800x500 with 1 Axes>"
      ]
     },
     "metadata": {},
     "output_type": "display_data"
    }
   ],
   "source": [
    "plt.figure(figsize=(8, 5))\n",
    "purchase_intents = df['Purchase_Intent'].unique()\n",
    "data = [df[df['Purchase_Intent'] == intent]['Time_Spent_on_Product_Research(hours)'] for intent in purchase_intents]\n",
    "plt.boxplot(data, labels=purchase_intents)\n",
    "plt.title('Time Spent on Product Research by Purchase Intent')\n",
    "plt.ylabel('Time (hours)')\n",
    "plt.xlabel('Purchase Intent')\n",
    "plt.grid(True)\n",
    "plt.tight_layout()\n",
    "plt.show()"
   ]
  },
  {
   "cell_type": "markdown",
   "id": "86317f7e",
   "metadata": {},
   "source": [
    "#### Bar Plot: Count of Each Purchase Intent"
   ]
  },
  {
   "cell_type": "code",
   "execution_count": 84,
   "id": "0b5d407f",
   "metadata": {},
   "outputs": [
    {
     "data": {
      "image/png": "[encoded data removed]",
      "text/plain": [
       "<Figure size 600x400 with 1 Axes>"
      ]
     },
     "metadata": {},
     "output_type": "display_data"
    }
   ],
   "source": [
    "plt.figure(figsize=(6, 4))\n",
    "intent_counts = df['Purchase_Intent'].value_counts()\n",
    "plt.bar(intent_counts.index, intent_counts.values, color='lightblue', edgecolor='black')\n",
    "plt.title('Distribution of Purchase Intent')\n",
    "plt.ylabel('Number of Customers')\n",
    "plt.xlabel('Purchase Intent')\n",
    "plt.grid(axis='y')\n",
    "plt.tight_layout()\n",
    "plt.show()"
   ]
  },
  {
   "cell_type": "markdown",
   "id": "511e9f1a",
   "metadata": {},
   "source": [
    "#### Histogram: Distribution of Purchase Amount"
   ]
  },
  {
   "cell_type": "code",
   "execution_count": 85,
   "id": "a5a10ee5",
   "metadata": {},
   "outputs": [
    {
     "data": {
      "image/png": "[encoded data removed]",
      "text/plain": [
       "<Figure size 700x400 with 1 Axes>"
      ]
     },
     "metadata": {},
     "output_type": "display_data"
    }
   ],
   "source": [
    "plt.figure(figsize=(7, 4))\n",
    "plt.hist(df['Purchase_Amount'], bins=30, color='salmon', edgecolor='black')\n",
    "plt.title('Purchase Amount Distribution')\n",
    "plt.xlabel('Purchase Amount')\n",
    "plt.ylabel('Frequency')\n",
    "plt.tight_layout()\n",
    "plt.show()"
   ]
  }
 ],
 "metadata": {
  "kernelspec": {
   "display_name": "Python 3",
   "language": "python",
   "name": "python3"
  },
  "language_info": {
   "codemirror_mode": {
    "name": "ipython",
    "version": 3
   },
   "file_extension": ".py",
   "mimetype": "text/x-python",
   "name": "python",
   "nbconvert_exporter": "python",
   "pygments_lexer": "ipython3",
   "version": "3.13.2"
  }
 },
 "nbformat": 4,
 "nbformat_minor": 5
}
